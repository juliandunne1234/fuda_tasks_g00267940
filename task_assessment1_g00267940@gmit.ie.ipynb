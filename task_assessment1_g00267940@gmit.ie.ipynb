{
 "cells": [
  {
   "cell_type": "markdown",
   "metadata": {},
   "source": [
    "# Fundamentals of Data Analysis: Task Assessment 1\n",
    "\n",
    "Julian Dunne (g00267940@gmit.ie)"
   ]
  },
  {
   "cell_type": "markdown",
   "metadata": {},
   "source": [
    "### Task assessment - scope of work\n",
    "1) Create a list variable that can contain integer, float and string elements\n",
    "\n",
    "2) Define a function that counts the number of times an element occurs in a list\n",
    "\n",
    "3) This function should return a dictionary including each list element and its frequency"
   ]
  },
  {
   "cell_type": "markdown",
   "metadata": {},
   "source": [
    "### Step 1: Create a list using a for loop\n",
    "\n",
    "When executing the initial code the user would be asked to input the number of elements in the list.\n",
    "Using a for loop it would return each element however the list could not differentiate between integer, string and float.\n",
    "\n",
    "[1] https://www.tutorialspoint.com/python-get-a-list-as-input-from-user#:~:text=%20Python%20Get%20a%20list%20as%20input%20from,8%20Example.%20%209%20Output.%20%20More%20\n",
    "tutorial on generating a list from user inputs.\n"
   ]
  },
  {
   "cell_type": "markdown",
   "metadata": {},
   "source": [
    "\n",
    "### Step 2: Exception statement to identify data type\n",
    "\n",
    "Try/except handling statements used as a way to differentiate between data types.\n",
    "Initial attempt was able to differentiate between string and integer. However it treated\n",
    "floats the same as strings.\n",
    "\n",
    "[2] https://stackoverflow.com/questions/12550473/python-lists-input-integers-and-strings - try/except statements\n"
   ]
  },
  {
   "cell_type": "markdown",
   "metadata": {},
   "source": [
    "### Step 3: Exception statement added inside another\n",
    "\n",
    "It was possible to modify examples found through web searches for Step 1 and Step 2 listed above. There is no link for Step 3 as the idea came from using if statements inside one another. The author applied the same logic to exception statements without assistance from web searches.\n",
    "\n",
    "#### Note: \n",
    "Including an exception statement inside another exception statement meant it was then possible to differentiate between a string, integer and float data type. The code in its current structure cannot differentiate between a list inside a list and a string."
   ]
  },
  {
   "cell_type": "code",
   "execution_count": 2,
   "metadata": {},
   "outputs": [
    {
     "name": "stdout",
     "output_type": "stream",
     "text": [
      "Enter the list size: 4\n",
      "12\n",
      "12\n",
      "asds\n",
      "as\n",
      "[12, 12, 'asds', 'as']\n"
     ]
    }
   ],
   "source": [
    "# Create empty list\n",
    "task_list = []\n",
    "\n",
    "# Input list size\n",
    "n = int(input(\"Enter the list size: \"))\n",
    "\n",
    "# populate list using for list for 'x' inputs 'n' times\n",
    "for x in range(n):\n",
    "    x = input(\"\")\n",
    "    \n",
    "    #exception handling statement so code can identify different data types\n",
    "    try:  \n",
    "        task_list.append(int(x))\n",
    "    except ValueError:\n",
    "        \n",
    "        #statement inside a statement so code can differentiate between float and string elements\n",
    "        try:\n",
    "            task_list.append(float(x))\n",
    "        except ValueError:\n",
    "            task_list.append(x)\n",
    "print(task_list)"
   ]
  },
  {
   "cell_type": "markdown",
   "metadata": {},
   "source": [
    "### Step 4: Create a function - Counts() \n",
    "A function that takes each element in tasks_list() and returns a dictionary of each list input as a key and the number of times it appears as the value {key: value}.\n",
    "\n",
    "[3] https://www.geeksforgeeks.org/counting-the-frequencies-in-a-list-using-dictionary-in-python/ - online python tutorial for counting frequencies in lists"
   ]
  },
  {
   "cell_type": "code",
   "execution_count": 3,
   "metadata": {},
   "outputs": [
    {
     "name": "stdout",
     "output_type": "stream",
     "text": [
      "{12: 2, 'asds': 1, 'as': 1}\n"
     ]
    }
   ],
   "source": [
    "# Define function called Counts that takes elements in task_list as inputs\n",
    "def counts(task_list): \n",
    "      \n",
    "   # Creating an empty dictionary  \n",
    "   count = {} \n",
    "   for i in (task_list):\n",
    "    # The get () method returns the value for the specified key if key is in dictionary\n",
    "    count[i] = count.get(i, 0) + 1\n",
    "   return count \n",
    "\n",
    "# Driver function \n",
    "if __name__ == \"__main__\":  \n",
    "    print(counts(task_list))"
   ]
  }
 ],
 "metadata": {
  "kernelspec": {
   "display_name": "Python 3",
   "language": "python",
   "name": "python3"
  },
  "language_info": {
   "codemirror_mode": {
    "name": "ipython",
    "version": 3
   },
   "file_extension": ".py",
   "mimetype": "text/x-python",
   "name": "python",
   "nbconvert_exporter": "python",
   "pygments_lexer": "ipython3",
   "version": "3.8.3"
  }
 },
 "nbformat": 4,
 "nbformat_minor": 4
}
