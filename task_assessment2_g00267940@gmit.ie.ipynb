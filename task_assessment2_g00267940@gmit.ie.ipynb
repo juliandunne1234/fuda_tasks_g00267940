{
 "cells": [
  {
   "cell_type": "markdown",
   "metadata": {},
   "source": [
    "# Fundamentals of Data Analysis: Task Assessment 2\n",
    "\n",
    "Julian Dunne (g00267940@gmit.ie)"
   ]
  },
  {
   "cell_type": "code",
   "execution_count": 1,
   "metadata": {},
   "outputs": [],
   "source": [
    "#import the required libraries\n",
    "import numpy as np\n",
    "import pandas as pd\n",
    "import collections\n",
    "import matplotlib.pyplot as plt"
   ]
  },
  {
   "cell_type": "code",
   "execution_count": 2,
   "metadata": {},
   "outputs": [
    {
     "name": "stdout",
     "output_type": "stream",
     "text": [
      "Enter the number of dice: 2\n",
      "Enter many times the dice are to be rolled: 1000000\n"
     ]
    }
   ],
   "source": [
    "#Enter the number of dice and the amount of times they are to be rolled\n",
    "k = int(input(\"Enter the number of dice: \"))\n",
    "n = int(input(\"Enter many times the dice are to be rolled: \"))"
   ]
  },
  {
   "cell_type": "code",
   "execution_count": 3,
   "metadata": {},
   "outputs": [],
   "source": [
    "#dicerolls function using k, n parameters\n",
    "def dicerolls(k, n):\n",
    "    \n",
    "    #use random module to generate array with elements in range of 1 to 6\n",
    "    diceroll_rng = np.random.default_rng().integers(1,7, size=(k, n))\n",
    "    #sum the rows (k value) if required so that it is a 1-d array\n",
    "    diceroll_rng = np.sum(diceroll_rng, axis=0)\n",
    "  \n",
    "    return diceroll_rng\n",
    "\n",
    "diceroll = dicerolls(k, n)"
   ]
  },
  {
   "cell_type": "code",
   "execution_count": 4,
   "metadata": {},
   "outputs": [
    {
     "data": {
      "text/plain": [
       "array([12, 10,  9, ...,  4, 10,  7], dtype=int64)"
      ]
     },
     "execution_count": 4,
     "metadata": {},
     "output_type": "execute_result"
    }
   ],
   "source": [
    "#variable diceroll is a 1-d array that returns dice roll sum values\n",
    "diceroll"
   ]
  },
  {
   "cell_type": "code",
   "execution_count": 5,
   "metadata": {},
   "outputs": [
    {
     "name": "stdout",
     "output_type": "stream",
     "text": [
      "{12: 27966, 10: 83344, 9: 111233, 7: 166294, 4: 83376, 8: 138828, 6: 138593, 3: 55654, 5: 110846, 11: 56040, 2: 27826}\n"
     ]
    }
   ],
   "source": [
    "# counts function that takes elements in diceroll as inputs and \n",
    "# returns a dictionary with each element and its frequency\n",
    "def counts (diceroll):\n",
    "    \n",
    "    count = {} \n",
    "    for i in diceroll:\n",
    "        \n",
    "        count[i] = count.get(i, 0) + 1\n",
    "\n",
    "    return count\n",
    "\n",
    "# Driver function \n",
    "if __name__ == \"__main__\":  \n",
    "    print(counts(diceroll))"
   ]
  },
  {
   "cell_type": "code",
   "execution_count": 6,
   "metadata": {},
   "outputs": [
    {
     "data": {
      "image/png": "[encoded data removed]",
      "text/plain": [
       "<Figure size 432x288 with 1 Axes>"
      ]
     },
     "metadata": {
      "needs_background": "light"
     },
     "output_type": "display_data"
    }
   ],
   "source": [
    "# Generate a histrogram showing the frequency of rolled values for k number of dice\n",
    "plt.hist(diceroll, bins=(6+(5*(k-1))), color='grey')\n",
    "plt.title(\"Dicerolls: frequency distribution\")\n",
    "plt.xlabel(\"Value of the dice roled\")\n",
    "plt.ylabel(\"Number of times value is recorded\")\n",
    "plt.show()"
   ]
  },
  {
   "cell_type": "code",
   "execution_count": 7,
   "metadata": {},
   "outputs": [],
   "source": [
    "# Convert the array to a pandas DataFrame\n",
    "df_diceroll = pd.DataFrame(diceroll)"
   ]
  },
  {
   "cell_type": "code",
   "execution_count": 8,
   "metadata": {},
   "outputs": [
    {
     "data": {
      "text/html": [
       "<div>\n",
       "<style scoped>\n",
       "    .dataframe tbody tr th:only-of-type {\n",
       "        vertical-align: middle;\n",
       "    }\n",
       "\n",
       "    .dataframe tbody tr th {\n",
       "        vertical-align: top;\n",
       "    }\n",
       "\n",
       "    .dataframe thead th {\n",
       "        text-align: right;\n",
       "    }\n",
       "</style>\n",
       "<table border=\"1\" class=\"dataframe\">\n",
       "  <thead>\n",
       "    <tr style=\"text-align: right;\">\n",
       "      <th></th>\n",
       "      <th>0</th>\n",
       "    </tr>\n",
       "  </thead>\n",
       "  <tbody>\n",
       "    <tr>\n",
       "      <th>count</th>\n",
       "      <td>1000000.000000</td>\n",
       "    </tr>\n",
       "    <tr>\n",
       "      <th>mean</th>\n",
       "      <td>7.003157</td>\n",
       "    </tr>\n",
       "    <tr>\n",
       "      <th>std</th>\n",
       "      <td>2.418288</td>\n",
       "    </tr>\n",
       "    <tr>\n",
       "      <th>min</th>\n",
       "      <td>2.000000</td>\n",
       "    </tr>\n",
       "    <tr>\n",
       "      <th>25%</th>\n",
       "      <td>5.000000</td>\n",
       "    </tr>\n",
       "    <tr>\n",
       "      <th>50%</th>\n",
       "      <td>7.000000</td>\n",
       "    </tr>\n",
       "    <tr>\n",
       "      <th>75%</th>\n",
       "      <td>9.000000</td>\n",
       "    </tr>\n",
       "    <tr>\n",
       "      <th>max</th>\n",
       "      <td>12.000000</td>\n",
       "    </tr>\n",
       "  </tbody>\n",
       "</table>\n",
       "</div>"
      ],
      "text/plain": [
       "                    0\n",
       "count  1000000.000000\n",
       "mean         7.003157\n",
       "std          2.418288\n",
       "min          2.000000\n",
       "25%          5.000000\n",
       "50%          7.000000\n",
       "75%          9.000000\n",
       "max         12.000000"
      ]
     },
     "execution_count": 8,
     "metadata": {},
     "output_type": "execute_result"
    }
   ],
   "source": [
    "# Use the describe function to perform statistical analysis on the data\n",
    "df_diceroll.describe()"
   ]
  },
  {
   "cell_type": "markdown",
   "metadata": {},
   "source": [
    "## Conclusion:\n",
    "\n",
    "It is clear from the histogram that the possiblility of rolling the lowest or highest value on the x axis is significantly lower than rolling a a value in the middle of the distribution. This is to be expected as rolling the lowest or the highest value woudld require all dice recording either the lowest combined or highest combined value which is going to be least likely. Statistical analysis shows that the mean and the 50th percentile are very close which is what would be expected for a normally distributed dataset."
   ]
  }
 ],
 "metadata": {
  "kernelspec": {
   "display_name": "Python 3",
   "language": "python",
   "name": "python3"
  },
  "language_info": {
   "codemirror_mode": {
    "name": "ipython",
    "version": 3
   },
   "file_extension": ".py",
   "mimetype": "text/x-python",
   "name": "python",
   "nbconvert_exporter": "python",
   "pygments_lexer": "ipython3",
   "version": "3.8.3"
  }
 },
 "nbformat": 4,
 "nbformat_minor": 4
}
