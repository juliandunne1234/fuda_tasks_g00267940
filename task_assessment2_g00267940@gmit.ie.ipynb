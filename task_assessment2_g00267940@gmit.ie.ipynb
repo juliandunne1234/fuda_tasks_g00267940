{
 "cells": [
  {
   "cell_type": "code",
   "execution_count": 1,
   "metadata": {},
   "outputs": [],
   "source": [
    "#import the required libraries\n",
    "import numpy as np\n",
    "import pandas as pd\n",
    "import collections"
   ]
  },
  {
   "cell_type": "code",
   "execution_count": 2,
   "metadata": {},
   "outputs": [
    {
     "name": "stdout",
     "output_type": "stream",
     "text": [
      "Enter the number of dice: 2\n",
      "Enter many times the dice are to be rolled: 10\n"
     ]
    }
   ],
   "source": [
    "#Enter the number of dice and the amount of times they are to be rolled\n",
    "k = int(input(\"Enter the number of dice: \"))\n",
    "n = int(input(\"Enter many times the dice are to be rolled: \"))"
   ]
  },
  {
   "cell_type": "code",
   "execution_count": 4,
   "metadata": {},
   "outputs": [],
   "source": [
    "#dicerolls function using k, n parameters\n",
    "def dicerolls(k, n):\n",
    "    \n",
    "    #use random module to generate array with elements in range of 1 to 6\n",
    "    diceroll_rng = np.random.default_rng().integers(1,7, size=(k, n))\n",
    "    #sum the rows (k value) if required so that it is a 1-d array\n",
    "    diceroll_rng = np.sum(diceroll_rng, axis=0)\n",
    "  \n",
    "    return diceroll_rng\n",
    "\n",
    "\n",
    "diceroll = dicerolls(k, n)"
   ]
  },
  {
   "cell_type": "code",
   "execution_count": 5,
   "metadata": {},
   "outputs": [
    {
     "data": {
      "text/plain": [
       "array([10, 11,  6,  5,  9,  9,  9,  7,  4,  5], dtype=int64)"
      ]
     },
     "execution_count": 5,
     "metadata": {},
     "output_type": "execute_result"
    }
   ],
   "source": [
    "#variable diceroll is a 1-d array that returns dice roll sum values\n",
    "diceroll"
   ]
  },
  {
   "cell_type": "code",
   "execution_count": 6,
   "metadata": {},
   "outputs": [
    {
     "name": "stdout",
     "output_type": "stream",
     "text": [
      "{10: 1, 11: 1, 6: 1, 5: 2, 9: 3, 7: 1, 4: 1}\n"
     ]
    }
   ],
   "source": [
    "# counts function that takes elements in diceroll as inputs and \n",
    "# returns a dictionary with each element and its frequency\n",
    "def counts (diceroll):\n",
    "    \n",
    "    count = {} \n",
    "    for i in diceroll:\n",
    "        \n",
    "        count[i] = count.get(i, 0) + 1\n",
    "\n",
    "    return count\n",
    "\n",
    "# Driver function \n",
    "if __name__ == \"__main__\":  \n",
    "    print(counts(diceroll))"
   ]
  }
 ],
 "metadata": {
  "kernelspec": {
   "display_name": "Python 3",
   "language": "python",
   "name": "python3"
  },
  "language_info": {
   "codemirror_mode": {
    "name": "ipython",
    "version": 3
   },
   "file_extension": ".py",
   "mimetype": "text/x-python",
   "name": "python",
   "nbconvert_exporter": "python",
   "pygments_lexer": "ipython3",
   "version": "3.8.3"
  }
 },
 "nbformat": 4,
 "nbformat_minor": 4
}
