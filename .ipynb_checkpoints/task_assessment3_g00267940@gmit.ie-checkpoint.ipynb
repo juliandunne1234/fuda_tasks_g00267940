{
 "cells": [
  {
   "cell_type": "markdown",
   "metadata": {},
   "source": [
    "# Fundamentals of Data Analysis: Task Assessment 3\n",
    "\n",
    "Julian Dunne (g00267940@gmit.ie)"
   ]
  },
  {
   "cell_type": "markdown",
   "metadata": {},
   "source": [
    "<b>Task assessment:</b> Write some python code that simulates flipping a coin 100 times. Then run this code 1,000 times, keeping track of the number of heads in each of the 1,000 simulations. Select an appropriate plot to depict the resulting list of 1,000 numbers, showing that it roughly follows a bell-shaped curve.\n",
    "***"
   ]
  },
  {
   "cell_type": "markdown",
   "metadata": {},
   "source": [
    "Step 1) Import the numpy libraries to be used throughout this task assessment"
   ]
  },
  {
   "cell_type": "code",
   "execution_count": 1,
   "metadata": {},
   "outputs": [],
   "source": [
    "import pandas as pd\n",
    "import numpy as np\n",
    "import matplotlib.pyplot as plt\n",
    "import collections\n",
    "from scipy.stats import norm"
   ]
  },
  {
   "cell_type": "markdown",
   "metadata": {},
   "source": [
    "Step 2) Simulate flipping a coin where heads=1 and tails=0.\n",
    "Each tests consists of 100 coin toss.\n",
    "The test is run 1000 times."
   ]
  },
  {
   "cell_type": "code",
   "execution_count": 2,
   "metadata": {},
   "outputs": [],
   "source": [
    "coin_toss = np.random.default_rng().binomial(100, 0.5, 1000)"
   ]
  },
  {
   "cell_type": "markdown",
   "metadata": {},
   "source": [
    "Step 3) Create a dictionary that returns the numbers of times in the number of tests in which heads is recorded."
   ]
  },
  {
   "cell_type": "code",
   "execution_count": 3,
   "metadata": {},
   "outputs": [
    {
     "name": "stdout",
     "output_type": "stream",
     "text": [
      "{35: 2, 36: 1, 37: 3, 38: 2, 39: 9, 40: 18, 41: 12, 42: 19, 43: 22, 44: 32, 45: 55, 46: 72, 47: 64, 48: 83, 49: 75, 50: 72, 51: 68, 52: 80, 53: 70, 54: 51, 55: 50, 56: 39, 57: 31, 58: 23, 59: 18, 60: 10, 61: 8, 62: 7, 64: 3, 65: 1}\n"
     ]
    }
   ],
   "source": [
    "count = {}\n",
    "\n",
    "for i in coin_toss:\n",
    "\n",
    "    count[i] = count.get(i, 0) + 1\n",
    "    count = dict(sorted(count.items()))\n",
    "    \n",
    "print(count)"
   ]
  },
  {
   "cell_type": "markdown",
   "metadata": {},
   "source": [
    "Step 4) Determine the number of bins required to accurately display the data."
   ]
  },
  {
   "cell_type": "code",
   "execution_count": 4,
   "metadata": {},
   "outputs": [],
   "source": [
    "# Create a list with key values from count dictionary\n",
    "keys = list(count.keys())\n",
    "\n",
    "# Subtract the max from the min key value and add 1 as this value is part of the dataset\n",
    "bin_value = (max(keys) - min(keys))+1"
   ]
  },
  {
   "cell_type": "markdown",
   "metadata": {},
   "source": [
    "Step 5) Generate a histrogram showing the numbers of times in the number of tests in which heads was recorded."
   ]
  },
  {
   "cell_type": "code",
   "execution_count": 5,
   "metadata": {},
   "outputs": [
    {
     "data": {
      "image/png": "[encoded data removed]",
      "text/plain": [
       "<Figure size 432x288 with 1 Axes>"
      ]
     },
     "metadata": {
      "needs_background": "light"
     },
     "output_type": "display_data"
    }
   ],
   "source": [
    "plt.hist(coin_toss, bins=bin_value)\n",
    "plt.xlabel(\"Number of times heads lands out of 100\")\n",
    "plt.show()"
   ]
  },
  {
   "cell_type": "markdown",
   "metadata": {},
   "source": [
    "Step 6) Normal Distributions.\n",
    "\n",
    "It is clear from the histogram that the data is normally distributed. By calculating the mean and the standard deviation of the dataset it is possible to plot a curve to fit the data. The code for fitting a normal distribution to a dataset was found at https://stackoverflow.com/questions/20011122/fitting-a-normal-distribution-to-1d-data with minor changes to match this dataset."
   ]
  },
  {
   "cell_type": "code",
   "execution_count": 6,
   "metadata": {},
   "outputs": [],
   "source": [
    "# Fit a normal distribution to the data:\n",
    "mean, std_dev = norm.fit(coin_toss)"
   ]
  },
  {
   "cell_type": "code",
   "execution_count": 7,
   "metadata": {},
   "outputs": [
    {
     "data": {
      "image/png": "[encoded data removed]",
      "text/plain": [
       "<Figure size 432x288 with 1 Axes>"
      ]
     },
     "metadata": {
      "needs_background": "light"
     },
     "output_type": "display_data"
    }
   ],
   "source": [
    "# Plot the histogram.\n",
    "plt.hist(coin_toss, bins=bin_value, density=True, alpha=0.6, color='black')\n",
    "\n",
    "# Plot the Distribution.\n",
    "xmin, xmax = plt.xlim()\n",
    "x = np.linspace(xmin, xmax, bin_value)\n",
    "p = norm.pdf(x, mean, std_dev)\n",
    "\n",
    "plt.plot(x, p, 'red', linewidth=2)\n",
    "title = \"Fit results: mean = %.2f,  std_dev = %.2f\" % (mean, std_dev)\n",
    "plt.title(title)\n",
    "\n",
    "plt.show()"
   ]
  },
  {
   "cell_type": "markdown",
   "metadata": {},
   "source": [
    "Step 7) Statistical Analysis."
   ]
  },
  {
   "cell_type": "code",
   "execution_count": 8,
   "metadata": {},
   "outputs": [
    {
     "data": {
      "text/html": [
       "<div>\n",
       "<style scoped>\n",
       "    .dataframe tbody tr th:only-of-type {\n",
       "        vertical-align: middle;\n",
       "    }\n",
       "\n",
       "    .dataframe tbody tr th {\n",
       "        vertical-align: top;\n",
       "    }\n",
       "\n",
       "    .dataframe thead th {\n",
       "        text-align: right;\n",
       "    }\n",
       "</style>\n",
       "<table border=\"1\" class=\"dataframe\">\n",
       "  <thead>\n",
       "    <tr style=\"text-align: right;\">\n",
       "      <th></th>\n",
       "      <th>Heads_per_test</th>\n",
       "    </tr>\n",
       "  </thead>\n",
       "  <tbody>\n",
       "    <tr>\n",
       "      <th>count</th>\n",
       "      <td>1000.000000</td>\n",
       "    </tr>\n",
       "    <tr>\n",
       "      <th>mean</th>\n",
       "      <td>50.030000</td>\n",
       "    </tr>\n",
       "    <tr>\n",
       "      <th>std</th>\n",
       "      <td>5.000811</td>\n",
       "    </tr>\n",
       "    <tr>\n",
       "      <th>min</th>\n",
       "      <td>35.000000</td>\n",
       "    </tr>\n",
       "    <tr>\n",
       "      <th>25%</th>\n",
       "      <td>47.000000</td>\n",
       "    </tr>\n",
       "    <tr>\n",
       "      <th>50%</th>\n",
       "      <td>50.000000</td>\n",
       "    </tr>\n",
       "    <tr>\n",
       "      <th>75%</th>\n",
       "      <td>53.000000</td>\n",
       "    </tr>\n",
       "    <tr>\n",
       "      <th>max</th>\n",
       "      <td>65.000000</td>\n",
       "    </tr>\n",
       "  </tbody>\n",
       "</table>\n",
       "</div>"
      ],
      "text/plain": [
       "       Heads_per_test\n",
       "count     1000.000000\n",
       "mean        50.030000\n",
       "std          5.000811\n",
       "min         35.000000\n",
       "25%         47.000000\n",
       "50%         50.000000\n",
       "75%         53.000000\n",
       "max         65.000000"
      ]
     },
     "execution_count": 8,
     "metadata": {},
     "output_type": "execute_result"
    }
   ],
   "source": [
    "# Convert dataset to dataframe and perform statistical analysis to see if mean and standard deviation values align\n",
    "df = pd.DataFrame(coin_toss, columns=['Heads_per_test'])\n",
    "df.describe()"
   ]
  }
 ],
 "metadata": {
  "kernelspec": {
   "display_name": "Python 3",
   "language": "python",
   "name": "python3"
  },
  "language_info": {
   "codemirror_mode": {
    "name": "ipython",
    "version": 3
   },
   "file_extension": ".py",
   "mimetype": "text/x-python",
   "name": "python",
   "nbconvert_exporter": "python",
   "pygments_lexer": "ipython3",
   "version": "3.8.3"
  }
 },
 "nbformat": 4,
 "nbformat_minor": 4
}
