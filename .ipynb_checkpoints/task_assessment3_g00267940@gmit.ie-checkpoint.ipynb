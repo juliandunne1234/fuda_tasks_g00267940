{
 "cells": [
  {
   "cell_type": "markdown",
   "metadata": {},
   "source": [
    "# Fundamentals of Data Analysis: Task Assessment 3\n",
    "\n",
    "Julian Dunne (g00267940@gmit.ie)"
   ]
  },
  {
   "cell_type": "markdown",
   "metadata": {},
   "source": [
    "<b>Task assessment:</b> Write some python code that simulates flipping a coin 100 times. Then run this code 1,000 times, keeping track of the number of heads in each of the 1,000 simulations. Select an appropriate plot to depict the resulting list of 1,000 numbers, showing that it roughly follows a bell-shaped curve.\n",
    "***"
   ]
  },
  {
   "cell_type": "markdown",
   "metadata": {},
   "source": [
    "Step 1) Import the numpy libraries to be used throughout this task assessment"
   ]
  },
  {
   "cell_type": "code",
   "execution_count": 1,
   "metadata": {},
   "outputs": [],
   "source": [
    "import pandas as pd\n",
    "import numpy as np\n",
    "import matplotlib.pyplot as plt\n",
    "import collections"
   ]
  },
  {
   "cell_type": "markdown",
   "metadata": {},
   "source": [
    "Step 2) Simulate flipping a coin where heads=1 and tails=0.\n",
    "Each tests consists of 100 coin toss.\n",
    "The test is run 1000 times."
   ]
  },
  {
   "cell_type": "code",
   "execution_count": 2,
   "metadata": {},
   "outputs": [],
   "source": [
    "coin_toss = np.random.default_rng().binomial(100, 0.5, 1000)"
   ]
  },
  {
   "cell_type": "markdown",
   "metadata": {},
   "source": [
    "Step 3) Create a dictionary that returns the numbers of times in the number of tests in which heads is recorded."
   ]
  },
  {
   "cell_type": "code",
   "execution_count": 3,
   "metadata": {},
   "outputs": [
    {
     "name": "stdout",
     "output_type": "stream",
     "text": [
      "{36: 1, 37: 3, 38: 3, 39: 5, 40: 9, 41: 12, 42: 22, 43: 32, 44: 24, 45: 64, 46: 66, 47: 59, 48: 72, 49: 86, 50: 81, 51: 76, 52: 73, 53: 57, 54: 70, 55: 47, 56: 39, 57: 29, 58: 17, 59: 20, 60: 19, 61: 6, 62: 1, 63: 3, 64: 2, 65: 1, 66: 1}\n"
     ]
    }
   ],
   "source": [
    "count = {}\n",
    "\n",
    "for i in coin_toss:\n",
    "\n",
    "    count[i] = count.get(i, 0) + 1\n",
    "    count = dict(sorted(count.items()))\n",
    "    \n",
    "print(count)"
   ]
  },
  {
   "cell_type": "markdown",
   "metadata": {},
   "source": [
    "Step 4) Determine the number of bins required to accurately display the data."
   ]
  },
  {
   "cell_type": "code",
   "execution_count": 4,
   "metadata": {},
   "outputs": [],
   "source": [
    "# Create a list with key values from count dictionary\n",
    "keys = list(count.keys())\n",
    "\n",
    "# Subtract the max from the min key value and add 1 as this value is part of the dataset\n",
    "bin_value = (max(keys) - min(keys))+1"
   ]
  },
  {
   "cell_type": "markdown",
   "metadata": {},
   "source": [
    "Step 5) Generate a histrogram showing the numbers of times in the number of tests in which heads was recorded."
   ]
  },
  {
   "cell_type": "code",
   "execution_count": 5,
   "metadata": {},
   "outputs": [
    {
     "data": {
      "image/png": "[encoded data removed]",
      "text/plain": [
       "<Figure size 432x288 with 1 Axes>"
      ]
     },
     "metadata": {
      "needs_background": "light"
     },
     "output_type": "display_data"
    }
   ],
   "source": [
    "plt.hist(coin_toss, bins=bin_value)\n",
    "plt.xlabel(\"Number of times heads lands out of 100\")\n",
    "plt.show()"
   ]
  }
 ],
 "metadata": {
  "kernelspec": {
   "display_name": "Python 3",
   "language": "python",
   "name": "python3"
  },
  "language_info": {
   "codemirror_mode": {
    "name": "ipython",
    "version": 3
   },
   "file_extension": ".py",
   "mimetype": "text/x-python",
   "name": "python",
   "nbconvert_exporter": "python",
   "pygments_lexer": "ipython3",
   "version": "3.8.3"
  }
 },
 "nbformat": 4,
 "nbformat_minor": 4
}
